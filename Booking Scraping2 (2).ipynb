{
 "cells": [
  {
   "cell_type": "code",
   "execution_count": 3,
   "id": "0ef4f6d9",
   "metadata": {},
   "outputs": [],
   "source": [
    "import re\n",
    "import csv\n",
    "import requests\n",
    "import pandas as pd\n",
    "from bs4 import BeautifulSoup\n",
    "# from selenium import webdriver\n",
    "# from selenium.webdriver.common.by import By\n",
    "# from selenium.webdriver.support.ui import WebDriverWait\n",
    "# from selenium.webdriver.support import expected_conditions as EC"
   ]
  },
  {
   "cell_type": "code",
   "execution_count": 4,
   "id": "ad94daaf",
   "metadata": {},
   "outputs": [
    {
     "data": {
      "text/plain": [
       "<Response [200]>"
      ]
     },
     "execution_count": 4,
     "metadata": {},
     "output_type": "execute_result"
    }
   ],
   "source": [
    "url='https://www.booking.com/hotel/sa/coral-gulf-riyadh.html?aid=304142&label=gen173nr-1FCAEoggI46AdIM1gEaEOIAQGYAQG4ARfIAQzYAQHoAQH4AQuIAgGoAgO4AtjO57EGwAIB0gIkZGM1YTNhYzItOTM1Ny00ZGU1LWE1YTgtNmUwYWY5NDBjYTYy2AIG4AIB&sid=2aadd13f9705ca0ff8da00160c704fa8&dest_id=900040280&dest_type=city&dist=0&group_adults=2&group_children=0&hapos=1&hpos=1&no_rooms=1&req_adults=2&req_children=0&room1=A%2CA&sb_price_type=total&sr_order=popularity&srepoch=1715158581&srpvid=01523ed530200132&type=total&ucfs=1&lang=en-us&soz=1&lang_changed=1&activeTab=main'\n",
    "response = requests.get(url)\n",
    "response"
   ]
  },
  {
   "cell_type": "code",
   "execution_count": 5,
   "id": "144ab41d",
   "metadata": {},
   "outputs": [],
   "source": [
    "soup = BeautifulSoup(response.text, \"html.parser\")"
   ]
  },
  {
   "cell_type": "code",
   "execution_count": 6,
   "id": "e3a5a637",
   "metadata": {},
   "outputs": [
    {
     "data": {
      "text/plain": [
       "'Ramada by Wyndham Hotel Riyadh'"
      ]
     },
     "execution_count": 6,
     "metadata": {},
     "output_type": "execute_result"
    }
   ],
   "source": [
    "name = soup.find('h2', attrs = {'class': 'd2fee87262 pp-header__title'})\n",
    "name.text"
   ]
  },
  {
   "cell_type": "code",
   "execution_count": 5,
   "id": "1db4faf1",
   "metadata": {},
   "outputs": [
    {
     "name": "stdout",
     "output_type": "stream",
     "text": [
      "King Abdul Aziz Road, 12443 Riyadh, Saudi Arabia\n"
     ]
    }
   ],
   "source": [
    "# Find the <span> element with the specified class\n",
    "span_element = soup.find('span', class_='hp_address_subtitle js-hp_address_subtitle jq_tooltip')\n",
    "\n",
    "# Extract the text from the <span> element\n",
    "if span_element:\n",
    "    location = span_element.text.strip()\n",
    "    # Print the extracted location\n",
    "    print(location)\n",
    "else:\n",
    "    print(\"Location data not found.\")"
   ]
  },
  {
   "cell_type": "code",
   "execution_count": 6,
   "id": "2d2f1378",
   "metadata": {},
   "outputs": [
    {
     "name": "stdout",
     "output_type": "stream",
     "text": [
      "Latitude: 24.67417179\n",
      "Longitude: 46.71595663\n"
     ]
    }
   ],
   "source": [
    "# Find the <a> element with the specified id\n",
    "a_element = soup.find('a', id='hotel_sidebar_static_map')\n",
    "\n",
    "# Extract the value of the data-atlas-latlng attribute\n",
    "if a_element:\n",
    "    lat_lng = a_element['data-atlas-latlng']\n",
    "    # Split the lat_lng string to separate latitude and longitude values\n",
    "    lat, lng = map(float, lat_lng.split(','))\n",
    "    # Print the extracted latitude and longitude values\n",
    "    print(\"Latitude:\", lat)\n",
    "    print(\"Longitude:\", lng)\n",
    "else:\n",
    "    print(\"Location data not found.\")"
   ]
  },
  {
   "cell_type": "code",
   "execution_count": 7,
   "id": "4c4d9fff",
   "metadata": {},
   "outputs": [
    {
     "data": {
      "text/plain": [
       "['Outdoor swimming pool',\n",
       " 'Free WiFi',\n",
       " 'Free parking',\n",
       " 'Fitness center',\n",
       " 'Airport shuttle',\n",
       " 'Family rooms',\n",
       " 'Restaurant',\n",
       " 'Non-smoking rooms',\n",
       " 'Tea/Coffee Maker in All Rooms',\n",
       " 'Good Breakfast']"
      ]
     },
     "execution_count": 7,
     "metadata": {},
     "output_type": "execute_result"
    }
   ],
   "source": [
    "facilities_lst = []\n",
    "facilities = soup.find('ul',attrs = {'class':\"c807d72881 d1a624a1cc e10711a42e\"})\n",
    "lst = facilities .find_all('span', attrs = {'class' :'a5a5a75131'})\n",
    "for i in lst:\n",
    "    facilities_lst.append(i.text)\n",
    "    \n",
    "facilities_lst"
   ]
  },
  {
   "cell_type": "code",
   "execution_count": 8,
   "id": "9489d7f5",
   "metadata": {},
   "outputs": [],
   "source": [
    "# Initialize the WebDriver (assuming Chrome)\n",
    "driver = webdriver.Chrome()\n",
    "\n",
    "# Navigate to the provided URL\n",
    "driver.get(url)\n",
    "# Extract the page source after the page has fully loaded\n",
    "page_source = driver.page_source\n",
    "\n",
    "# Parse the page source with BeautifulSoup\n",
    "soup = BeautifulSoup(page_source, 'html.parser')"
   ]
  },
  {
   "cell_type": "code",
   "execution_count": 9,
   "id": "213a8444",
   "metadata": {},
   "outputs": [
    {
     "data": {
      "text/plain": [
       "4"
      ]
     },
     "execution_count": 9,
     "metadata": {},
     "output_type": "execute_result"
    }
   ],
   "source": [
    "# Find the element with class \"a455730030\"\n",
    "element_with_class = soup.find(class_=\"a455730030\")\n",
    "\n",
    "# Find all elements with aria-hidden=\"true\" within the element with the specified class\n",
    "elements_with_aria_hidden = element_with_class.find_all(attrs={\"aria-hidden\": \"true\"})\n",
    "\n",
    "# Count the number of elements with aria-hidden=\"true\"\n",
    "count_aria_hidden = len(elements_with_aria_hidden)\n",
    "\n",
    "count_aria_hidden"
   ]
  },
  {
   "cell_type": "code",
   "execution_count": 34,
   "id": "368b2a5e",
   "metadata": {},
   "outputs": [
    {
     "name": "stderr",
     "output_type": "stream",
     "text": [
      "C:\\Users\\Ahmed\\AppData\\Local\\Temp\\ipykernel_6540\\875821318.py:8: DeprecationWarning: find_element_by_* commands are deprecated. Please use find_element() instead\n",
      "  element = driver.find_element_by_xpath('//*[@id=\"basiclayout\"]/div[1]/div[2]/div/div/div[2]/div/div[1]/div/div/div/div[1]/div/div[1]')\n"
     ]
    },
    {
     "name": "stdout",
     "output_type": "stream",
     "text": [
      "Ramada\n"
     ]
    }
   ],
   "source": [
    "# Start the WebDriver (assuming it's in your PATH)\n",
    "driver = webdriver.Chrome()\n",
    "\n",
    "# Open the URL\n",
    "driver.get('https://www.booking.com/hotel/sa/coral-gulf-riyadh.html?aid=304142&label=gen173nr-1FCAEoggI46AdIM1gEaEOIAQGYAQG4ARfIAQzYAQHoAQH4AQuIAgGoAgO4AtjO57EGwAIB0gIkZGM1YTNhYzItOTM1Ny00ZGU1LWE1YTgtNmUwYWY5NDBjYTYy2AIG4AIB&sid=2aadd13f9705ca0ff8da00160c704fa8&dest_id=900040280&dest_type=city&dist=0&group_adults=2&group_children=0&hapos=1&hpos=1&no_rooms=1&req_adults=2&req_children=0&room1=A%2CA&sb_price_type=total&sr_order=popularity&srepoch=1715158581&srpvid=01523ed530200132&type=total&ucfs=1&lang=en-us&soz=1&lang_changed=1#hotelTmpl')\n",
    "try:\n",
    "    # Find the element using XPath\n",
    "    element = driver.find_element_by_xpath('//*[@id=\"basiclayout\"]/div[1]/div[2]/div/div/div[2]/div/div[1]/div/div/div/div[1]/div/div[1]')\n",
    "    \n",
    "    # Now you can interact with the element as needed\n",
    "    # For example, you can get its text:\n",
    "    print(element.text)\n",
    "    \n",
    "finally:\n",
    "    # Close the WebDriver\n",
    "    driver.quit()"
   ]
  },
  {
   "cell_type": "code",
   "execution_count": 42,
   "id": "83674d01",
   "metadata": {},
   "outputs": [
    {
     "name": "stderr",
     "output_type": "stream",
     "text": [
      "C:\\Users\\Ahmed\\AppData\\Local\\Temp\\ipykernel_6540\\2095850022.py:6: DeprecationWarning: find_elements_by_* commands are deprecated. Please use find_elements() instead\n",
      "  elements = driver.find_elements_by_class_name('b1a5e281e7')\n"
     ]
    },
    {
     "name": "stdout",
     "output_type": "stream",
     "text": [
      "Image links:\n",
      "https://r-xx.bstatic.com/xdata/images/xphoto/max240x120/42901218.jpg?k=0f66942de217fd1e4f638961c54bf7b6089e90a2496b43d9ad6c3406167c9eb7&o=\n"
     ]
    }
   ],
   "source": [
    "driver = webdriver.Chrome()\n",
    "driver.get('https://www.booking.com/hotel/sa/coral-gulf-riyadh.html?aid=304142&label=gen173nr-1FCAEoggI46AdIM1gEaEOIAQGYAQG4ARfIAQzYAQHoAQH4AQuIAgGoAgO4AtjO57EGwAIB0gIkZGM1YTNhYzItOTM1Ny00ZGU1LWE1YTgtNmUwYWY5NDBjYTYy2AIG4AIB&sid=2aadd13f9705ca0ff8da00160c704fa8&dest_id=900040280&dest_type=city&dist=0&group_adults=2&group_children=0&hapos=1&hpos=1&no_rooms=1&req_adults=2&req_children=0&room1=A%2CA&sb_price_type=total&sr_order=popularity&srepoch=1715158581&srpvid=01523ed530200132&type=total&ucfs=1&lang=en-us&soz=1&lang_changed=1#hotelTmpl')\n",
    "\n",
    "try:\n",
    "    # Find all elements with the specified class name\n",
    "    elements = driver.find_elements_by_class_name('b1a5e281e7')\n",
    "    \n",
    "    # Iterate over each element and get the value of the src attribute\n",
    "    img_links = [element.get_attribute('src') for element in elements]\n",
    "    \n",
    "    # Print the list of image links\n",
    "    print(\"Image links:\")\n",
    "    if len(img_links) == 2:\n",
    "        print(img_links[0])\n",
    "    else:\n",
    "        print(\"Img not Exist\")\n",
    "    \n",
    "finally:\n",
    "    # Close the WebDriver\n",
    "    driver.quit()"
   ]
  },
  {
   "cell_type": "code",
   "execution_count": 13,
   "id": "71258372",
   "metadata": {},
   "outputs": [
    {
     "data": {
      "text/plain": [
       "\"You're eligible for a Genius discount at Ramada by Wyndham Hotel Riyadh! To save at this property, all you have to do is sign in.\\nRamada by Wyndham Hotel Riyadh is located near King Abdul Aziz Road in central Riyadh. This 4-star hotel offers deluxe accommodations with 24-hour front desk, LED Smart TVs, free internet access and parking.\\n\\nAll of the guest rooms are spacious and decorated in a classical style. Each room includes a seating area, satellite channels and internet connection.\\n\\nThere is an on-site café with pool views and the hotel’s restaurant is also open for lunch and dinner, serving international cuisine.\\n\\nLeisure facilities at Ramada by Wyndham Hotel Riyadh include an outdoor swimming pool and a modern fitness center.\\n\\nKing Abdullah Park is 1.4 mi from the hotel, while King Abdulaziz Historical Center is 1.7 mi away. The nearest airport is King Khalid, 20 mi from Ramada by Wyndham Hotel Riyadh, and the property offers a paid airport shuttle service.\""
      ]
     },
     "execution_count": 13,
     "metadata": {},
     "output_type": "execute_result"
    }
   ],
   "source": [
    "# Find the <div> element with the specified id\n",
    "div_element = soup.find('div', id='property_description_content')\n",
    "\n",
    "about = div_element.text.strip()\n",
    "about"
   ]
  },
  {
   "cell_type": "code",
   "execution_count": 14,
   "id": "6995b2f9",
   "metadata": {},
   "outputs": [
    {
     "name": "stderr",
     "output_type": "stream",
     "text": [
      "C:\\Users\\Ahmed\\AppData\\Local\\Temp\\ipykernel_6540\\229696083.py:6: DeprecationWarning: find_element_by_* commands are deprecated. Please use find_element() instead\n",
      "  element = driver.find_element_by_xpath('//*[@id=\"basiclayout\"]/div[1]/div[2]/div/div/div[2]/div/div[2]/div')\n"
     ]
    },
    {
     "name": "stdout",
     "output_type": "stream",
     "text": [
      "Property highlights\n",
      "Breakfast Info\n",
      "Continental, Buffet\n",
      "Free private parking available at the hotel\n",
      "Loyal Customers\n",
      "끖\n",
      "There are more repeat guests here than most other properties.\n",
      "Reserve\n"
     ]
    }
   ],
   "source": [
    "driver = webdriver.Chrome()\n",
    "driver.get('https://www.booking.com/hotel/sa/coral-gulf-riyadh.html?aid=304142&label=gen173nr-1FCAEoggI46AdIM1gEaEOIAQGYAQG4ARfIAQzYAQHoAQH4AQuIAgGoAgO4AtjO57EGwAIB0gIkZGM1YTNhYzItOTM1Ny00ZGU1LWE1YTgtNmUwYWY5NDBjYTYy2AIG4AIB&sid=2aadd13f9705ca0ff8da00160c704fa8&dest_id=900040280&dest_type=city&dist=0&group_adults=2&group_children=0&hapos=1&hpos=1&no_rooms=1&req_adults=2&req_children=0&room1=A%2CA&sb_price_type=total&sr_order=popularity&srepoch=1715158581&srpvid=01523ed530200132&type=total&ucfs=1&lang=en-us&soz=1&lang_changed=1#hotelTmpl')\n",
    "\n",
    "try:\n",
    "    # Find the element using XPath\n",
    "    element = driver.find_element_by_xpath('//*[@id=\"basiclayout\"]/div[1]/div[2]/div/div/div[2]/div/div[2]/div')\n",
    "    \n",
    "    # Now you can interact with the element as needed\n",
    "    # For example, you can get its text:\n",
    "    print(element.text)\n",
    "    \n",
    "finally:\n",
    "    # Close the WebDriver\n",
    "    driver.quit()"
   ]
  },
  {
   "cell_type": "code",
   "execution_count": 15,
   "id": "d096ab87",
   "metadata": {},
   "outputs": [
    {
     "data": {
      "text/plain": [
       "'https://www.booking.com/hotel/sa/coral-gulf-riyadh.html?aid=304142&label=gen173nr-1FCAEoggI46AdIM1gEaEOIAQGYAQG4ARfIAQzYAQHoAQH4AQuIAgGoAgO4AtjO57EGwAIB0gIkZGM1YTNhYzItOTM1Ny00ZGU1LWE1YTgtNmUwYWY5NDBjYTYy2AIG4AIB&sid=2aadd13f9705ca0ff8da00160c704fa8&dest_id=900040280&dest_type=city&dist=0&group_adults=2&group_children=0&hapos=1&hpos=1&no_rooms=1&req_adults=2&req_children=0&room1=A%2CA&sb_price_type=total&sr_order=popularity&srepoch=1715158581&srpvid=01523ed530200132&type=total&ucfs=1&lang=en-us&soz=1&lang_changed=1&activeTab=main'"
      ]
     },
     "execution_count": 15,
     "metadata": {},
     "output_type": "execute_result"
    }
   ],
   "source": [
    "url"
   ]
  },
  {
   "cell_type": "code",
   "execution_count": 16,
   "id": "b458167e",
   "metadata": {},
   "outputs": [
    {
     "data": {
      "text/plain": [
       "'https://www.booking.com/hotel/sa/coral-gulf-riyadh.html'"
      ]
     },
     "execution_count": 16,
     "metadata": {},
     "output_type": "execute_result"
    }
   ],
   "source": [
    "splitted_hotel_name = url.split('?')\n",
    "splitted_hotel_name[0]"
   ]
  },
  {
   "cell_type": "code",
   "execution_count": 17,
   "id": "d7a5228a",
   "metadata": {},
   "outputs": [],
   "source": [
    "images_link = 'https://www.booking.com/hotel/sa/coral-gulf-riyadh.html?aid=304142&label=gen173nr-1FCAEoggI46AdIM1gEaEOIAQGYAQG4ARfIAQzYAQHoAQH4AQuIAgGoAgO4AtjO57EGwAIB0gIkZGM1YTNhYzItOTM1Ny00ZGU1LWE1YTgtNmUwYWY5NDBjYTYy2AIG4AIB&sid=2aadd13f9705ca0ff8da00160c704fa8&dest_id=900040280&dest_type=city&dist=0&group_adults=2&group_children=0&hapos=1&hpos=1&no_rooms=1&req_adults=2&req_children=0&room1=A%2CA&sb_price_type=total&sr_order=popularity&srepoch=1715158581&srpvid=01523ed530200132&type=total&ucfs=1&lang=en-us&soz=1&lang_changed=1&activeTab=photosGallery'"
   ]
  },
  {
   "cell_type": "code",
   "execution_count": 18,
   "id": "d7744420",
   "metadata": {},
   "outputs": [
    {
     "data": {
      "text/plain": [
       "'https://www.booking.com/hotel/sa/coral-gulf-riyadh.html?https://www.booking.com/hotel/sa/coral-gulf-riyadh.html?aid=304142&label=gen173nr-1FCAEoggI46AdIM1gEaEOIAQGYAQG4ARfIAQzYAQHoAQH4AQuIAgGoAgO4AtjO57EGwAIB0gIkZGM1YTNhYzItOTM1Ny00ZGU1LWE1YTgtNmUwYWY5NDBjYTYy2AIG4AIB&sid=2aadd13f9705ca0ff8da00160c704fa8&dest_id=900040280&dest_type=city&dist=0&group_adults=2&group_children=0&hapos=1&hpos=1&no_rooms=1&req_adults=2&req_children=0&room1=A%2CA&sb_price_type=total&sr_order=popularity&srepoch=1715158581&srpvid=01523ed530200132&type=total&ucfs=1&lang=en-us&soz=1&lang_changed=1&activeTab=photosGallery'"
      ]
     },
     "execution_count": 18,
     "metadata": {},
     "output_type": "execute_result"
    }
   ],
   "source": [
    "specific_images_link = splitted_hotel_name[0] + '?' + images_link\n",
    "specific_images_link"
   ]
  },
  {
   "cell_type": "code",
   "execution_count": 40,
   "id": "eb0a295c",
   "metadata": {},
   "outputs": [],
   "source": [
    "# Make an HTTP request to the specific images link\n",
    "response = requests.get(specific_images_link)\n",
    "if response.status_code == 200:\n",
    "    # Parse the HTML content\n",
    "    soup = BeautifulSoup(response.content, 'html.parser')\n",
    "    \n",
    "    # Find all elements with the specified class name\n",
    "    elements = soup.select('.bh-photo-modal-thumbs-grid__main img')\n",
    "\n",
    "    # Extract the URLs of the images and print them\n",
    "    for element in elements:\n",
    "        image_url = element['src']\n",
    "        if image_url:\n",
    "            print(image_url)\n",
    "else:\n",
    "    print(\"Failed to retrieve the page.\")"
   ]
  },
  {
   "cell_type": "code",
   "execution_count": 41,
   "id": "fee7a76b",
   "metadata": {},
   "outputs": [
    {
     "name": "stderr",
     "output_type": "stream",
     "text": [
      "C:\\Users\\Ahmed\\AppData\\Local\\Temp\\ipykernel_6540\\2026816706.py:19: DeprecationWarning: find_elements_by_* commands are deprecated. Please use find_elements() instead\n",
      "  elements = driver.find_elements_by_css_selector('.bh-photo-modal-thumbs-grid__main img')\n"
     ]
    },
    {
     "name": "stdout",
     "output_type": "stream",
     "text": [
      "https://cf.bstatic.com/xdata/images/hotel/max1024x768/78418692.jpg?k=f7da7b498de4b09fbd9ca88a310e6b403225b678a72302709883ee3ce2560902&o=&hp=1\n",
      "https://cf.bstatic.com/xdata/images/hotel/max1024x768/390611567.jpg?k=1f38eab798b2c3013143a08db21b01d5e7120229bd9a6dbe5818e7b092d56185&o=&hp=1\n",
      "https://cf.bstatic.com/xdata/images/hotel/max1024x768/390611557.jpg?k=194ce54feb5a15a6a43a4ee8cae4af7ad3687a6323102c4b35636c9bc0772bd8&o=&hp=1\n",
      "https://cf.bstatic.com/xdata/images/hotel/max1024x768/390611561.jpg?k=33a1deefbb6d737ca0ab5331d15a9cd1b9a15ce23b2140657b8debdf3ad24058&o=&hp=1\n",
      "https://cf.bstatic.com/xdata/images/hotel/max1024x768/390611576.jpg?k=c867d976278a58843cb4bb7d9f4b45fef658e830c29e767e48b1a14117b27a72&o=&hp=1\n",
      "https://cf.bstatic.com/xdata/images/hotel/max1024x768/78418686.jpg?k=eaddc9ff8a03fa2690ec7440c90380d0c35cf70ddb2a20f2a9cea2dcbaa925d6&o=&hp=1\n",
      "https://cf.bstatic.com/xdata/images/hotel/max1024x768/390611549.jpg?k=9e949d45b9193b647fee41e9dca80833303f027a5daa720c808da9e4fb20cf9a&o=&hp=1\n",
      "https://cf.bstatic.com/xdata/images/hotel/max1024x768/390611570.jpg?k=8c5df3496559b3cd81f0b6320ed11e13e0240e80b5460e048180f280272cb321&o=&hp=1\n",
      "https://cf.bstatic.com/xdata/images/hotel/max1024x768/390611568.jpg?k=5bade857aecb4eea823b120f9aaf184a295fb4787f7f2c707b2e14d6777b040a&o=&hp=1\n",
      "https://cf.bstatic.com/xdata/images/hotel/max1024x768/390611551.jpg?k=a33a70767c9ff9aec04cdc285c8e9b3decc28a6e54dd4e3d1b3ef8d754d65f27&o=&hp=1\n",
      "https://cf.bstatic.com/xdata/images/hotel/max1024x768/390611550.jpg?k=e2b0a8075dbbffd17d252bb35c4f4d54c38616ac02e3461d6101ac2c347e013d&o=&hp=1\n",
      "https://cf.bstatic.com/xdata/images/hotel/max1024x768/390611558.jpg?k=959a206fb1c637dcff83c9f40aea82c8e882ccf02513f058ca08590b6989c371&o=&hp=1\n",
      "https://cf.bstatic.com/xdata/images/hotel/max1024x768/390611572.jpg?k=534edd886ce72f112d9e0c3906986015c87244d7fe155cd62e83a2ba22bdd0c1&o=&hp=1\n",
      "https://cf.bstatic.com/xdata/images/hotel/max1024x768/390611571.jpg?k=1249c440909593ec522e2aece7dc554f5a971393995718392757d586029a91c1&o=&hp=1\n",
      "https://cf.bstatic.com/xdata/images/hotel/max1024x768/390611573.jpg?k=5649991725e435f6e411c1203ea75d6f18d449fc78105c0348cc80b84b04a757&o=&hp=1\n",
      "https://cf.bstatic.com/xdata/images/hotel/max1024x768/390611575.jpg?k=1286de556d814840453893e66617ec08fedd706aab246c2d5037a57720859fef&o=&hp=1\n",
      "https://cf.bstatic.com/xdata/images/hotel/max1024x768/268965331.jpg?k=23502ae96c00d4629a97153beee7d1b95b805a8a18ae9f6e232565dcb48c523d&o=&hp=1\n",
      "https://cf.bstatic.com/xdata/images/hotel/max1024x768/280988522.jpg?k=ae4f0af77f6bcac79eb68027a96017d69bc4c97f0ec7e77ea7e44e83955cd499&o=&hp=1\n",
      "https://cf.bstatic.com/xdata/images/hotel/max1024x768/246934654.jpg?k=f459062112bfa3b8ac9f7cbec622bdacc004a2b6123a290d4ca3d9294cb9e221&o=&hp=1\n",
      "https://cf.bstatic.com/xdata/images/hotel/max1024x768/246934684.jpg?k=8010b1fcb49976cc26440b644e65b082d890d0f6e7414456a68f2c67a10158db&o=&hp=1\n",
      "https://cf.bstatic.com/xdata/images/hotel/max1024x768/78418207.jpg?k=1451941f646222e52ce189f436da4837a0ee3eb4fa6352275a5b8f88db9e8b83&o=&hp=1\n",
      "https://cf.bstatic.com/xdata/images/hotel/max1024x768/113732204.jpg?k=2eacb48f87a667829d32c35e021cb9f31785ebe0e5d65e897014b0d1daebb43d&o=&hp=1\n",
      "https://cf.bstatic.com/xdata/images/hotel/max1024x768/94132603.jpg?k=422b95987bc652a3e734204f289c5104aac894a496812a106a243bbc869ad607&o=&hp=1\n",
      "https://cf.bstatic.com/xdata/images/hotel/max1024x768/93800870.jpg?k=c942ff6b8d6273877be918951a209bc7c1daf89ceba3df725639371144980ecf&o=&hp=1\n",
      "https://cf.bstatic.com/xdata/images/hotel/max1024x768/85976020.jpg?k=dcd8f1242fe1a00a824c5a14f3708315f2806114fbc222a22b1e8bae1bc19a4d&o=&hp=1\n",
      "https://cf.bstatic.com/xdata/images/hotel/max1024x768/78539354.jpg?k=7de113eea9b452918db822844f56d829ee24d2adf708e651ef8d6fc61b17c857&o=&hp=1\n",
      "https://cf.bstatic.com/xdata/images/hotel/max1024x768/113732235.jpg?k=15066ec078f31f974ee0dbd3cc09577a3d600784901cf5c1d324ede7d735cbad&o=&hp=1\n",
      "https://cf.bstatic.com/xdata/images/hotel/max1024x768/113732243.jpg?k=e135826781f7117acc5697def45f4b7b24abd63d4260012323efd46a067c6c86&o=&hp=1\n",
      "https://cf.bstatic.com/xdata/images/hotel/max1024x768/78418223.jpg?k=bd517dfdc7cdc53edcefec616f78809b420b14a58dd3886de81b2e866e681472&o=&hp=1\n",
      "https://cf.bstatic.com/xdata/images/hotel/max1024x768/94129465.jpg?k=23e33c5d119bfbb00679762157a21e22c655ad341ef170c5b7bbe19bf853ceb8&o=&hp=1\n",
      "https://cf.bstatic.com/xdata/images/hotel/max1024x768/29378875.jpg?k=71f5a87129faac4132493ee9d0e9f405dcc44ae192f6bd1927d6fee7666bd66c&o=&hp=1\n",
      "https://cf.bstatic.com/xdata/images/hotel/max1024x768/29319588.jpg?k=fead90d6fa4ba0bba5e7e445728dab0f8dd440ad6bb72cceadf49293b3f14d12&o=&hp=1\n",
      "https://cf.bstatic.com/xdata/images/hotel/max1024x768/78418056.jpg?k=0d4d7e97e82ca8f116897dfed473d316430ed8e5b7ffcb6672777b441996dbc6&o=&hp=1\n",
      "https://cf.bstatic.com/xdata/images/hotel/max1024x768/78401438.jpg?k=d13bee66b0a2365a73e63faf40ac5649a299b81147df734991c1127a2765b8d5&o=&hp=1\n",
      "https://cf.bstatic.com/xdata/images/hotel/max1024x768/85976012.jpg?k=2a3c538347cf7ed693613fb499c67a271e2cbe9560481a9498319e578881ada0&o=&hp=1\n",
      "https://cf.bstatic.com/xdata/images/hotel/max1024x768/85976015.jpg?k=dbe6b29f5d3441090991bf79e96b82403169f402e4dd05b8d075c9b2cb8d2854&o=&hp=1\n"
     ]
    }
   ],
   "source": [
    "# the correct code\n",
    "driver = webdriver.Chrome()\n",
    "driver.get(specific_images_link)\n",
    "\n",
    "try:\n",
    "    # Wait for the elements with the specified class to be loaded\n",
    "    WebDriverWait(driver, 10).until(EC.visibility_of_all_elements_located((By.CLASS_NAME, 'bh-photo-modal-thumbs-grid__main')))\n",
    "    \n",
    "    # Get the URL of the current page\n",
    "    page_url = driver.current_url\n",
    "    \n",
    "    # Navigate to the URL obtained\n",
    "    driver.get(page_url)\n",
    "    \n",
    "    # Reduce the zoom level to 25%\n",
    "    driver.execute_script(\"document.body.style.zoom='25%'\")\n",
    "    \n",
    "    # Find all elements with the specified class name\n",
    "    elements = driver.find_elements_by_css_selector('.bh-photo-modal-thumbs-grid__main img')\n",
    "\n",
    "    # Extract the URLs of the images and print them\n",
    "    for element in elements:\n",
    "        image_url = element.get_attribute('src')\n",
    "        if image_url:\n",
    "            print(image_url)\n",
    "\n",
    "finally:\n",
    "    # Close the WebDriver\n",
    "    driver.quit()"
   ]
  },
  {
   "cell_type": "code",
   "execution_count": 21,
   "id": "a866851d",
   "metadata": {},
   "outputs": [
    {
     "data": {
      "text/plain": [
       "['Private Bathroom',\n",
       " 'Toilet',\n",
       " 'Free toiletries',\n",
       " 'Outdoor fireplace',\n",
       " 'Sun deck',\n",
       " 'BBQ facilities',\n",
       " 'Garden',\n",
       " 'Clothes rack',\n",
       " 'Live music/Performance',\n",
       " 'Evening entertainment',\n",
       " 'Karaoke',\n",
       " 'TV',\n",
       " 'Coffee house on site',\n",
       " 'Fruit',\n",
       " \"Kids' meals\",\n",
       " 'Special diet meals (on request)',\n",
       " 'Minibar',\n",
       " 'Restaurant',\n",
       " 'Tea/Coffee maker',\n",
       " 'Valet parking',\n",
       " 'Accessible parking',\n",
       " 'Invoice provided',\n",
       " 'Lockers',\n",
       " 'Private check-in/out',\n",
       " 'Concierge',\n",
       " 'Baggage storage',\n",
       " 'Currency exchange',\n",
       " 'Express check-in/out',\n",
       " '24-hour front desk',\n",
       " 'Daily housekeeping',\n",
       " 'Suit press',\n",
       " 'Ironing service',\n",
       " 'Dry cleaning',\n",
       " 'Laundry',\n",
       " 'Fax/Photocopying',\n",
       " 'Business center',\n",
       " 'Meeting/Banquet facilities',\n",
       " 'Fire extinguishers',\n",
       " 'CCTV outside property',\n",
       " 'CCTV in common areas',\n",
       " 'Smoke alarms',\n",
       " 'Security alarm',\n",
       " 'Key card access',\n",
       " 'Key access',\n",
       " '24-hour security',\n",
       " 'Safe',\n",
       " 'Shuttle service',\n",
       " 'Shared lounge/TV area',\n",
       " 'Designated smoking area',\n",
       " 'Air conditioning',\n",
       " 'Heating',\n",
       " 'Car rental',\n",
       " 'Packed lunches',\n",
       " 'Chapel/Shrine',\n",
       " 'Soundproof rooms',\n",
       " 'Elevator',\n",
       " 'Family rooms',\n",
       " 'Facilities for disabled guests',\n",
       " 'Airport shuttle',\n",
       " 'Non-smoking rooms',\n",
       " 'Room service',\n",
       " 'Open all year',\n",
       " 'All ages welcome',\n",
       " 'Locker rooms',\n",
       " 'Fitness',\n",
       " 'Spa/Wellness packages',\n",
       " 'Foot bath',\n",
       " 'Spa lounge/Relaxation area',\n",
       " 'Steam room',\n",
       " 'Spa facilities',\n",
       " 'Beach umbrellas',\n",
       " 'Beach chairs/Loungers',\n",
       " 'Public Bath',\n",
       " 'Turkish/Steam Bath',\n",
       " 'Massage',\n",
       " 'Fitness center',\n",
       " 'Arabic',\n",
       " 'English']"
      ]
     },
     "execution_count": 21,
     "metadata": {},
     "output_type": "execute_result"
    }
   ],
   "source": [
    "slicing = len(facilities_lst)*2\n",
    "all_data = []\n",
    "urls = soup.find_all('span', attrs = {'class': 'a5a5a75131'})\n",
    "for url in urls:\n",
    "    all_data.append(url.text)\n",
    "    \n",
    "all_data[slicing:]"
   ]
  },
  {
   "cell_type": "code",
   "execution_count": 52,
   "id": "e97ec9a1",
   "metadata": {},
   "outputs": [
    {
     "name": "stdout",
     "output_type": "stream",
     "text": [
      "area_surrounding :  None\n"
     ]
    }
   ],
   "source": [
    "area_surrounding = soup.find(\"div\" , {\"class\":\"e50d7535fa\"})\n",
    "# input_string = area_surrounding.text\n",
    "print(\"area_surrounding : \",area_surrounding)"
   ]
  },
  {
   "cell_type": "code",
   "execution_count": null,
   "id": "4f2dc950",
   "metadata": {},
   "outputs": [],
   "source": [
    "# Regular expression pattern to match \"number min(float km)\" and \"number min(int km)\"\n",
    "pattern = r'\\d+\\smin\\(\\d+(?:\\.\\d+)?\\s+km\\)'\n",
    "\n",
    "# Find all matches of the pattern in the text\n",
    "matches = re.findall(pattern, input_string)\n",
    "\n",
    "# If you want to store the matches in a new list\n",
    "matches_list = list(matches)\n",
    "\n",
    "print(matches_list)"
   ]
  },
  {
   "cell_type": "code",
   "execution_count": null,
   "id": "4a18f14c",
   "metadata": {},
   "outputs": [],
   "source": [
    "# Find all matches of the pattern in the text\n",
    "matches = re.findall(pattern, input_string)\n",
    "\n",
    "# Create a list to store the remaining text\n",
    "remaining_text_list = []\n",
    "\n",
    "# Iterate over matches_list to split and store the remaining text\n",
    "remaining_text = input_string\n",
    "for match in matches:\n",
    "    # Split the remaining text at the matched pattern\n",
    "    remaining_text = remaining_text.split(match, 1)\n",
    "    # Store the remaining text after the split if it's not empty\n",
    "    if remaining_text[0]:\n",
    "        remaining_text_list.append(remaining_text[0])\n",
    "    # Update the remaining text for the next iteration\n",
    "    remaining_text = remaining_text[1]\n",
    "\n",
    "# Add the last remaining text after the last match\n",
    "if remaining_text:\n",
    "    remaining_text_list.append(remaining_text)\n",
    "\n",
    "print(remaining_text_list)"
   ]
  },
  {
   "cell_type": "code",
   "execution_count": null,
   "id": "90eecc5f",
   "metadata": {},
   "outputs": [],
   "source": [
    "# Construct the dictionary\n",
    "result_dict = dict(zip(remaining_text_list, matches_list))\n",
    "print(result_dict)"
   ]
  },
  {
   "cell_type": "code",
   "execution_count": 57,
   "id": "4b8ae65a",
   "metadata": {},
   "outputs": [],
   "source": []
  },
  {
   "cell_type": "code",
   "execution_count": null,
   "id": "63ac9c7a",
   "metadata": {},
   "outputs": [],
   "source": []
  },
  {
   "cell_type": "code",
   "execution_count": null,
   "id": "120d2f39",
   "metadata": {},
   "outputs": [],
   "source": []
  },
  {
   "cell_type": "code",
   "execution_count": null,
   "id": "883e05e8",
   "metadata": {},
   "outputs": [],
   "source": []
  },
  {
   "cell_type": "code",
   "execution_count": null,
   "id": "4d87ac41",
   "metadata": {},
   "outputs": [],
   "source": []
  },
  {
   "cell_type": "code",
   "execution_count": null,
   "id": "157a6347",
   "metadata": {},
   "outputs": [],
   "source": []
  },
  {
   "cell_type": "code",
   "execution_count": null,
   "id": "4a34585e",
   "metadata": {},
   "outputs": [],
   "source": []
  },
  {
   "cell_type": "code",
   "execution_count": null,
   "id": "03067114",
   "metadata": {},
   "outputs": [],
   "source": []
  },
  {
   "cell_type": "code",
   "execution_count": 9,
   "id": "0dfc4dab",
   "metadata": {},
   "outputs": [],
   "source": [
    "# getting the div that has all of features\n",
    "features_container = soup.find(\"div\" , {\"class\":\"e50d7535fa\"})\n",
    "\n",
    "# seperating each one of them \n",
    "seperated_feature = features_container.find_all(\"div\" , {\"class\":\"f1e6195c8b\"})"
   ]
  },
  {
   "cell_type": "code",
   "execution_count": 14,
   "id": "3c6d56ec",
   "metadata": {
    "scrolled": true
   },
   "outputs": [
    {
     "name": "stdout",
     "output_type": "stream",
     "text": [
      "[{'Bathroom': ['Private Bathroom ', 'Toilet ', 'Free toiletries ']}, {'Outdoors': ['Outdoor fireplace ', 'Sun deck ', 'BBQ facilities Additional charge', 'Garden ']}, {'Room Amenities': ['Clothes rack ']}, {'Activities': ['Live music/Performance Additional charge', 'Evening entertainment Additional charge', 'Karaoke Additional charge']}, {'Media & Technology': ['TV ']}, {'Food & Drink': ['Coffee house on site ', 'Fruit ', \"Kids' meals Additional charge\", 'Special diet meals (on request) ', 'Minibar ', 'Restaurant ', 'Tea/Coffee maker ']}, {'Parking': ['Valet parking ', 'Accessible parking ']}, {'Front Desk Services': ['Invoice provided ', 'Lockers ', 'Private check-in/out ', 'Concierge ', 'Baggage storage ', 'Currency exchange ', 'Express check-in/out ', '24-hour front desk ']}, {'Cleaning Services': ['Daily housekeeping ', 'Suit press Additional charge', 'Ironing service Additional charge', 'Dry cleaning Additional charge', 'Laundry Additional charge']}, {'Business Facilities': ['Fax/Photocopying Additional charge', 'Business center ', 'Meeting/Banquet facilities Additional charge']}, {'Safety & security': ['Fire extinguishers ', 'CCTV outside property ', 'CCTV in common areas ', 'Smoke alarms ', 'Security alarm ', 'Key card access ', 'Key access ', '24-hour security ', 'Safe Additional charge']}, {'General': ['Shuttle service Additional charge', 'Shared lounge/TV area ', 'Designated smoking area ', 'Air conditioning ', 'Heating ', 'Car rental ', 'Packed lunches ', 'Chapel/Shrine ', 'Soundproof rooms ', 'Elevator ', 'Family rooms ', 'Facilities for disabled guests ', 'Airport shuttle Additional charge', 'Non-smoking rooms ', 'Room service ']}, {'Outdoor swimming pool': ['Open all year ', 'All ages welcome ']}, {'Spa': ['Locker rooms ', 'Fitness ', 'Spa/Wellness packages ', 'Foot bath ', 'Spa lounge/Relaxation area ', 'Steam room ', 'Spa facilities ', 'Beach umbrellas ', 'Beach chairs/Loungers ', 'Public Bath ', 'Turkish/Steam Bath Additional charge', 'Massage Additional charge', 'Fitness center ']}, {'Languages Spoken': ['Arabic ', 'English ']}]\n"
     ]
    }
   ],
   "source": [
    "listed_features=[]\n",
    "for feature in seperated_feature:\n",
    "    local={}\n",
    "    headfeatures = feature.find(\"div\", {\"class\" :\"d1ca9115fe\"}).getText()\n",
    "    local[f\"{headfeatures}\"]=[]\n",
    "    try:\n",
    "        list_of_fearures = feature.find(\"ul\").find_all(\"li\")\n",
    "        for li in list_of_fearures:\n",
    "            local[f\"{headfeatures}\"].append(li.getText())\n",
    "        \n",
    "        listed_features.append(local)\n",
    "#         print(local)\n",
    "    except:\n",
    "        #         print(feature)\n",
    "        pass\n",
    "    \n",
    "print(listed_features)"
   ]
  },
  {
   "cell_type": "code",
   "execution_count": null,
   "id": "6ce7c675",
   "metadata": {},
   "outputs": [],
   "source": []
  }
 ],
 "metadata": {
  "kernelspec": {
   "display_name": "Python 3",
   "language": "python",
   "name": "python3"
  },
  "language_info": {
   "codemirror_mode": {
    "name": "ipython",
    "version": 3
   },
   "file_extension": ".py",
   "mimetype": "text/x-python",
   "name": "python",
   "nbconvert_exporter": "python",
   "pygments_lexer": "ipython3",
   "version": "3.8.8"
  }
 },
 "nbformat": 4,
 "nbformat_minor": 5
}
